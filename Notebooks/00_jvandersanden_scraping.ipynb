{
 "cells": [
  {
   "cell_type": "markdown",
   "id": "94ead746-1132-4e22-b225-f202efaa5f46",
   "metadata": {},
   "source": [
    "## Jacob Vander Sanden\n",
    "## Web Scraping Project - Part 1: Scraping\n",
    "## 11/13/2024"
   ]
  },
  {
   "cell_type": "code",
   "execution_count": 2,
   "id": "9fc5c6dc-5b41-4905-90b5-327fdd08f33b",
   "metadata": {},
   "outputs": [],
   "source": [
    "# imports \n",
    "import pandas as pd\n",
    "from selenium import webdriver\n",
    "from selenium.webdriver.common.by import By # used to import different ways to access data in the XML or HTML file\n",
    "from selenium.webdriver.chrome.service import Service # no longer need to download a driver file, use service\n",
    "from webdriver_manager.chrome import ChromeDriverManager # used to manage the Chrome driver to emulate a Chrome web browser\n",
    "import time\n",
    "import random"
   ]
  },
  {
   "cell_type": "code",
   "execution_count": 3,
   "id": "fc028f07-b51d-4249-9f26-9f289ed7b2c3",
   "metadata": {},
   "outputs": [],
   "source": [
    "# import excel with amazon links to loop through \n",
    "\n",
    "best_selling_books = pd.read_csv('best_selling_books.csv')\n",
    "\n",
    "urls = best_selling_books['Amazon Link']"
   ]
  },
  {
   "cell_type": "code",
   "execution_count": 4,
   "id": "643f254d-bbdc-4bfb-a124-41ab5d61a3b2",
   "metadata": {},
   "outputs": [
    {
     "name": "stdout",
     "output_type": "stream",
     "text": [
      "page 1 done\n"
     ]
    },
    {
     "ename": "NoSuchWindowException",
     "evalue": "Message: no such window: target window already closed\nfrom unknown error: web view not found\n  (Session info: chrome=131.0.6778.86)\nStacktrace:\n\tGetHandleVerifier [0x00007FF79FD26CB5+28821]\n\t(No symbol) [0x00007FF79FC93840]\n\t(No symbol) [0x00007FF79FB3578A]\n\t(No symbol) [0x00007FF79FB0F4F5]\n\t(No symbol) [0x00007FF79FBB6247]\n\t(No symbol) [0x00007FF79FBCECE2]\n\t(No symbol) [0x00007FF79FBAF0A3]\n\t(No symbol) [0x00007FF79FB7A778]\n\t(No symbol) [0x00007FF79FB7B8E1]\n\tGetHandleVerifier [0x00007FF7A005FCAD+3408013]\n\tGetHandleVerifier [0x00007FF7A007741F+3504127]\n\tGetHandleVerifier [0x00007FF7A006B5FD+3455453]\n\tGetHandleVerifier [0x00007FF79FDEBDBB+835995]\n\t(No symbol) [0x00007FF79FC9EB5F]\n\t(No symbol) [0x00007FF79FC9A814]\n\t(No symbol) [0x00007FF79FC9A9AD]\n\t(No symbol) [0x00007FF79FC8A199]\n\tBaseThreadInitThunk [0x00007FFFAD1E259D+29]\n\tRtlUserThreadStart [0x00007FFFAF3AAF38+40]\n",
     "output_type": "error",
     "traceback": [
      "\u001b[1;31m---------------------------------------------------------------------------\u001b[0m",
      "\u001b[1;31mNoSuchWindowException\u001b[0m                     Traceback (most recent call last)",
      "Cell \u001b[1;32mIn[4], line 38\u001b[0m\n\u001b[0;32m     36\u001b[0m \u001b[38;5;66;03m# Add a random delay before scraping\u001b[39;00m\n\u001b[0;32m     37\u001b[0m total_wait_time \u001b[38;5;241m=\u001b[39m random\u001b[38;5;241m.\u001b[39muniform(\u001b[38;5;241m2\u001b[39m, \u001b[38;5;241m20\u001b[39m)\n\u001b[1;32m---> 38\u001b[0m random_scroll(browser, total_wait_time)\n\u001b[0;32m     40\u001b[0m \u001b[38;5;66;03m# Scrape the rating\u001b[39;00m\n\u001b[0;32m     41\u001b[0m rating_element \u001b[38;5;241m=\u001b[39m browser\u001b[38;5;241m.\u001b[39mfind_element(By\u001b[38;5;241m.\u001b[39mXPATH, \u001b[38;5;124m\"\u001b[39m\u001b[38;5;124m//span[@data-hook=\u001b[39m\u001b[38;5;124m'\u001b[39m\u001b[38;5;124mrating-out-of-text\u001b[39m\u001b[38;5;124m'\u001b[39m\u001b[38;5;124m]\u001b[39m\u001b[38;5;124m\"\u001b[39m)\n",
      "Cell \u001b[1;32mIn[4], line 14\u001b[0m, in \u001b[0;36mrandom_scroll\u001b[1;34m(browser, total_wait_time)\u001b[0m\n\u001b[0;32m     10\u001b[0m time_per_step \u001b[38;5;241m=\u001b[39m total_wait_time \u001b[38;5;241m/\u001b[39m scroll_steps\n\u001b[0;32m     12\u001b[0m \u001b[38;5;28;01mfor\u001b[39;00m step \u001b[38;5;129;01min\u001b[39;00m \u001b[38;5;28mrange\u001b[39m(scroll_steps):\n\u001b[1;32m---> 14\u001b[0m     browser\u001b[38;5;241m.\u001b[39mexecute_script(\u001b[38;5;124mf\u001b[39m\u001b[38;5;124m\"\u001b[39m\u001b[38;5;124mwindow.scrollBy(0, \u001b[39m\u001b[38;5;132;01m{\u001b[39;00mscroll_increment\u001b[38;5;132;01m}\u001b[39;00m\u001b[38;5;124m);\u001b[39m\u001b[38;5;124m\"\u001b[39m)\n\u001b[0;32m     16\u001b[0m     random_wait \u001b[38;5;241m=\u001b[39m random\u001b[38;5;241m.\u001b[39muniform(\u001b[38;5;241m0.5\u001b[39m \u001b[38;5;241m*\u001b[39m time_per_step, \u001b[38;5;241m1.5\u001b[39m \u001b[38;5;241m*\u001b[39m time_per_step)\n\u001b[0;32m     18\u001b[0m     time\u001b[38;5;241m.\u001b[39msleep(random_wait)\n",
      "File \u001b[1;32m~\\anaconda3\\Lib\\site-packages\\selenium\\webdriver\\remote\\webdriver.py:414\u001b[0m, in \u001b[0;36mWebDriver.execute_script\u001b[1;34m(self, script, *args)\u001b[0m\n\u001b[0;32m    411\u001b[0m converted_args \u001b[38;5;241m=\u001b[39m \u001b[38;5;28mlist\u001b[39m(args)\n\u001b[0;32m    412\u001b[0m command \u001b[38;5;241m=\u001b[39m Command\u001b[38;5;241m.\u001b[39mW3C_EXECUTE_SCRIPT\n\u001b[1;32m--> 414\u001b[0m \u001b[38;5;28;01mreturn\u001b[39;00m \u001b[38;5;28mself\u001b[39m\u001b[38;5;241m.\u001b[39mexecute(command, {\u001b[38;5;124m\"\u001b[39m\u001b[38;5;124mscript\u001b[39m\u001b[38;5;124m\"\u001b[39m: script, \u001b[38;5;124m\"\u001b[39m\u001b[38;5;124margs\u001b[39m\u001b[38;5;124m\"\u001b[39m: converted_args})[\u001b[38;5;124m\"\u001b[39m\u001b[38;5;124mvalue\u001b[39m\u001b[38;5;124m\"\u001b[39m]\n",
      "File \u001b[1;32m~\\anaconda3\\Lib\\site-packages\\selenium\\webdriver\\remote\\webdriver.py:354\u001b[0m, in \u001b[0;36mWebDriver.execute\u001b[1;34m(self, driver_command, params)\u001b[0m\n\u001b[0;32m    352\u001b[0m response \u001b[38;5;241m=\u001b[39m \u001b[38;5;28mself\u001b[39m\u001b[38;5;241m.\u001b[39mcommand_executor\u001b[38;5;241m.\u001b[39mexecute(driver_command, params)\n\u001b[0;32m    353\u001b[0m \u001b[38;5;28;01mif\u001b[39;00m response:\n\u001b[1;32m--> 354\u001b[0m     \u001b[38;5;28mself\u001b[39m\u001b[38;5;241m.\u001b[39merror_handler\u001b[38;5;241m.\u001b[39mcheck_response(response)\n\u001b[0;32m    355\u001b[0m     response[\u001b[38;5;124m\"\u001b[39m\u001b[38;5;124mvalue\u001b[39m\u001b[38;5;124m\"\u001b[39m] \u001b[38;5;241m=\u001b[39m \u001b[38;5;28mself\u001b[39m\u001b[38;5;241m.\u001b[39m_unwrap_value(response\u001b[38;5;241m.\u001b[39mget(\u001b[38;5;124m\"\u001b[39m\u001b[38;5;124mvalue\u001b[39m\u001b[38;5;124m\"\u001b[39m, \u001b[38;5;28;01mNone\u001b[39;00m))\n\u001b[0;32m    356\u001b[0m     \u001b[38;5;28;01mreturn\u001b[39;00m response\n",
      "File \u001b[1;32m~\\anaconda3\\Lib\\site-packages\\selenium\\webdriver\\remote\\errorhandler.py:229\u001b[0m, in \u001b[0;36mErrorHandler.check_response\u001b[1;34m(self, response)\u001b[0m\n\u001b[0;32m    227\u001b[0m         alert_text \u001b[38;5;241m=\u001b[39m value[\u001b[38;5;124m\"\u001b[39m\u001b[38;5;124malert\u001b[39m\u001b[38;5;124m\"\u001b[39m]\u001b[38;5;241m.\u001b[39mget(\u001b[38;5;124m\"\u001b[39m\u001b[38;5;124mtext\u001b[39m\u001b[38;5;124m\"\u001b[39m)\n\u001b[0;32m    228\u001b[0m     \u001b[38;5;28;01mraise\u001b[39;00m exception_class(message, screen, stacktrace, alert_text)  \u001b[38;5;66;03m# type: ignore[call-arg]  # mypy is not smart enough here\u001b[39;00m\n\u001b[1;32m--> 229\u001b[0m \u001b[38;5;28;01mraise\u001b[39;00m exception_class(message, screen, stacktrace)\n",
      "\u001b[1;31mNoSuchWindowException\u001b[0m: Message: no such window: target window already closed\nfrom unknown error: web view not found\n  (Session info: chrome=131.0.6778.86)\nStacktrace:\n\tGetHandleVerifier [0x00007FF79FD26CB5+28821]\n\t(No symbol) [0x00007FF79FC93840]\n\t(No symbol) [0x00007FF79FB3578A]\n\t(No symbol) [0x00007FF79FB0F4F5]\n\t(No symbol) [0x00007FF79FBB6247]\n\t(No symbol) [0x00007FF79FBCECE2]\n\t(No symbol) [0x00007FF79FBAF0A3]\n\t(No symbol) [0x00007FF79FB7A778]\n\t(No symbol) [0x00007FF79FB7B8E1]\n\tGetHandleVerifier [0x00007FF7A005FCAD+3408013]\n\tGetHandleVerifier [0x00007FF7A007741F+3504127]\n\tGetHandleVerifier [0x00007FF7A006B5FD+3455453]\n\tGetHandleVerifier [0x00007FF79FDEBDBB+835995]\n\t(No symbol) [0x00007FF79FC9EB5F]\n\t(No symbol) [0x00007FF79FC9A814]\n\t(No symbol) [0x00007FF79FC9A9AD]\n\t(No symbol) [0x00007FF79FC8A199]\n\tBaseThreadInitThunk [0x00007FFFAD1E259D+29]\n\tRtlUserThreadStart [0x00007FFFAF3AAF38+40]\n"
     ]
    }
   ],
   "source": [
    "# Function to scroll from the top to the bottom of the web page\n",
    "def random_scroll(browser, total_wait_time):\n",
    "   \n",
    "    total_height = browser.execute_script(\"return document.body.scrollHeight\")\n",
    "   \n",
    "    scroll_steps = random.randint(3, 10)  \n",
    "    \n",
    "    scroll_increment = total_height // scroll_steps\n",
    "   \n",
    "    time_per_step = total_wait_time / scroll_steps\n",
    "\n",
    "    for step in range(scroll_steps):\n",
    "       \n",
    "        browser.execute_script(f\"window.scrollBy(0, {scroll_increment});\")\n",
    "        \n",
    "        random_wait = random.uniform(0.5 * time_per_step, 1.5 * time_per_step)\n",
    "       \n",
    "        time.sleep(random_wait)\n",
    "\n",
    "    browser.execute_script(\"window.scrollTo(0, document.body.scrollHeight);\")\n",
    "\n",
    "# Initialize the Selenium web driver (Chrome in this case)\n",
    "browser = webdriver.Chrome()\n",
    "\n",
    "# Create empty lists to store the extracted data\n",
    "amazon_average_rating = []\n",
    "amazon_sales_rank = []\n",
    "amazon_total_reviews = []\n",
    "\n",
    "browser.maximize_window()\n",
    "\n",
    "# choose what urls to scrape \n",
    "for i, url in enumerate(urls[0:174], start=1):\n",
    "    browser.get(url)\n",
    "\n",
    "    # Add a random delay before scraping\n",
    "    total_wait_time = random.uniform(2, 20)\n",
    "    random_scroll(browser, total_wait_time)\n",
    "\n",
    "    # Scrape the rating\n",
    "    rating_element = browser.find_element(By.XPATH, \"//span[@data-hook='rating-out-of-text']\")\n",
    "    rating_text = rating_element.text\n",
    "    amazon_average_rating.append(rating_text)\n",
    "    \n",
    "    # Scrape the rank and account for borh different paths\n",
    "    rank_elements = browser.find_element(By.XPATH,\n",
    "    (\"//span[contains(@class, 'a-list-item') and contains(., 'Best Sellers Rank')] | \"\n",
    "     \"//th[contains(text(), 'Best Sellers Rank')]/following-sibling::td\"))\n",
    "    rank_text = rank_elements.text\n",
    "    amazon_sales_rank.append(rank_text)\n",
    "    \n",
    "    # Scrape the total reviews\n",
    "    total_reviews_element = browser.find_element(By.XPATH, \"//span[@id='acrCustomerReviewText']\")\n",
    "    total_reviews_text = total_reviews_element.text\n",
    "    amazon_total_reviews.append(total_reviews_text)\n",
    "\n",
    "    # Print page progress\n",
    "    print(f\"page {i} done\")\n",
    "\n",
    "# Close the automated browser\n",
    "browser.quit()\n",
    "\n",
    "# Verify the data by printing the lengths of each list\n",
    "print(f\"Ratings Scraped: {len(amazon_average_rating)}\")\n",
    "print(f\"Sales Ranks Scraped: {len(amazon_sales_rank)}\")\n",
    "print(f\"Reviews Scraped: {len(amazon_total_reviews)}\")"
   ]
  },
  {
   "cell_type": "code",
   "execution_count": null,
   "id": "a67c1712-22a6-4a51-bfd0-74c7e39f8460",
   "metadata": {},
   "outputs": [],
   "source": [
    "# Create DataFrame and export data\n",
    "amazon_raw = pd.DataFrame({\n",
    "    'Amazon_Rating':amazon_average_rating,\n",
    "    'Amazon_Sales_Rank': amazon_sales_rank,\n",
    "    'Amazon_Total_Reviews': amazon_total_reviews\n",
    "})\n",
    "\n",
    "print(amazon_raw.shape)\n",
    "amazon_raw.to_csv('amazon_raw.csv', index=False, encoding='utf-8')\n"
   ]
  }
 ],
 "metadata": {
  "kernelspec": {
   "display_name": "Python 3 (ipykernel)",
   "language": "python",
   "name": "python3"
  },
  "language_info": {
   "codemirror_mode": {
    "name": "ipython",
    "version": 3
   },
   "file_extension": ".py",
   "mimetype": "text/x-python",
   "name": "python",
   "nbconvert_exporter": "python",
   "pygments_lexer": "ipython3",
   "version": "3.12.3"
  }
 },
 "nbformat": 4,
 "nbformat_minor": 5
}
