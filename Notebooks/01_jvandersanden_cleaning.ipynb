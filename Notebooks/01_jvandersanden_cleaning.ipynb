{
 "cells": [
  {
   "cell_type": "markdown",
   "id": "86be8d6d-4fa4-40aa-a4a0-d87413749475",
   "metadata": {},
   "source": [
    "## Jacob Vander Sanden\n",
    "## Web Scraping Project - Part 2: Cleaning\n",
    "## 11/13/2024"
   ]
  },
  {
   "cell_type": "code",
   "execution_count": 2,
   "id": "78930442-1836-4c0f-80b9-dc0aa90379c4",
   "metadata": {},
   "outputs": [],
   "source": [
    "# imports \n",
    "import pandas as pd\n",
    "import re as re"
   ]
  },
  {
   "cell_type": "code",
   "execution_count": 3,
   "id": "bdee4f9b-c23e-4516-bcec-119cfa31f835",
   "metadata": {},
   "outputs": [
    {
     "data": {
      "text/html": [
       "<div>\n",
       "<style scoped>\n",
       "    .dataframe tbody tr th:only-of-type {\n",
       "        vertical-align: middle;\n",
       "    }\n",
       "\n",
       "    .dataframe tbody tr th {\n",
       "        vertical-align: top;\n",
       "    }\n",
       "\n",
       "    .dataframe thead th {\n",
       "        text-align: right;\n",
       "    }\n",
       "</style>\n",
       "<table border=\"1\" class=\"dataframe\">\n",
       "  <thead>\n",
       "    <tr style=\"text-align: right;\">\n",
       "      <th></th>\n",
       "      <th>Amazon_Link</th>\n",
       "      <th>Amazon_Rating</th>\n",
       "      <th>Amazon_Sales_Rank</th>\n",
       "      <th>Amazon_Total_Reviews</th>\n",
       "    </tr>\n",
       "  </thead>\n",
       "  <tbody>\n",
       "    <tr>\n",
       "      <th>0</th>\n",
       "      <td>https://www.amazon.com/Tale-Two-Cities-Charles...</td>\n",
       "      <td>4.4 out of 5</td>\n",
       "      <td>Best Sellers Rank: #1,748 Free in Kindle Store...</td>\n",
       "      <td>33,644 ratings</td>\n",
       "    </tr>\n",
       "    <tr>\n",
       "      <th>1</th>\n",
       "      <td>https://www.amazon.com/little-Prince-Antoine-S...</td>\n",
       "      <td>4.9 out of 5</td>\n",
       "      <td>Best Sellers Rank: #40,864 in Books (See Top 1...</td>\n",
       "      <td>1,686 ratings</td>\n",
       "    </tr>\n",
       "    <tr>\n",
       "      <th>2</th>\n",
       "      <td>https://www.amazon.com/Harry-Potter-Sorcerers-...</td>\n",
       "      <td>4.8 out of 5</td>\n",
       "      <td>#68 in Audible Books &amp; Originals (See Top 100 ...</td>\n",
       "      <td>138,128 ratings</td>\n",
       "    </tr>\n",
       "    <tr>\n",
       "      <th>3</th>\n",
       "      <td>https://www.amazon.com/And-Then-There-Were-Non...</td>\n",
       "      <td>4.4 out of 5</td>\n",
       "      <td>#1,123 in Audible Books &amp; Originals (See Top 1...</td>\n",
       "      <td>50,377 ratings</td>\n",
       "    </tr>\n",
       "    <tr>\n",
       "      <th>4</th>\n",
       "      <td>https://www.amazon.com/Dreams-My-Father-Story-...</td>\n",
       "      <td>4.7 out of 5</td>\n",
       "      <td>#7,822 in Audible Books &amp; Originals (See Top 1...</td>\n",
       "      <td>10,636 ratings</td>\n",
       "    </tr>\n",
       "  </tbody>\n",
       "</table>\n",
       "</div>"
      ],
      "text/plain": [
       "                                         Amazon_Link Amazon_Rating  \\\n",
       "0  https://www.amazon.com/Tale-Two-Cities-Charles...  4.4 out of 5   \n",
       "1  https://www.amazon.com/little-Prince-Antoine-S...  4.9 out of 5   \n",
       "2  https://www.amazon.com/Harry-Potter-Sorcerers-...  4.8 out of 5   \n",
       "3  https://www.amazon.com/And-Then-There-Were-Non...  4.4 out of 5   \n",
       "4  https://www.amazon.com/Dreams-My-Father-Story-...  4.7 out of 5   \n",
       "\n",
       "                                   Amazon_Sales_Rank Amazon_Total_Reviews  \n",
       "0  Best Sellers Rank: #1,748 Free in Kindle Store...       33,644 ratings  \n",
       "1  Best Sellers Rank: #40,864 in Books (See Top 1...        1,686 ratings  \n",
       "2  #68 in Audible Books & Originals (See Top 100 ...      138,128 ratings  \n",
       "3  #1,123 in Audible Books & Originals (See Top 1...       50,377 ratings  \n",
       "4  #7,822 in Audible Books & Originals (See Top 1...       10,636 ratings  "
      ]
     },
     "metadata": {},
     "output_type": "display_data"
    },
    {
     "data": {
      "text/plain": [
       "(171, 4)"
      ]
     },
     "execution_count": 3,
     "metadata": {},
     "output_type": "execute_result"
    }
   ],
   "source": [
    "# Open scraped data to clean our first dataset: amazon_raw \n",
    "amazon_raw = pd.read_excel('amazon_raw.xlsx')\n",
    "\n",
    "# Check all data came out correct\n",
    "display(amazon_raw.head(5))\n",
    "amazon_raw.shape"
   ]
  },
  {
   "cell_type": "code",
   "execution_count": 4,
   "id": "4b09b325-23ee-4281-b823-a04b458d8c37",
   "metadata": {},
   "outputs": [
    {
     "data": {
      "text/plain": [
       "Index(['amazon_link', 'amazon_rating', 'amazon_sales_rank',\n",
       "       'amazon_total_reviews'],\n",
       "      dtype='object')"
      ]
     },
     "metadata": {},
     "output_type": "display_data"
    }
   ],
   "source": [
    "# Convert column names to snake case \n",
    "amazon_raw.columns = amazon_raw.columns.str.strip().str.lower().str.replace(' ', '_')\n",
    "\n",
    "display(amazon_raw.columns)"
   ]
  },
  {
   "cell_type": "code",
   "execution_count": 5,
   "id": "d4d3d22a-304c-438d-b24a-202919918082",
   "metadata": {},
   "outputs": [
    {
     "data": {
      "text/plain": [
       "0    4.4\n",
       "1    4.9\n",
       "2    4.8\n",
       "3    4.4\n",
       "4    4.7\n",
       "Name: amazon_rating, dtype: object"
      ]
     },
     "metadata": {},
     "output_type": "display_data"
    }
   ],
   "source": [
    "# Clean amazon_rating to only be numeric\n",
    "# Make data all strings\n",
    "amazon_raw['amazon_rating'] = amazon_raw['amazon_rating'].astype(str)\n",
    "\n",
    "# Delete part of the string\n",
    "amazon_raw['amazon_rating'] = amazon_raw['amazon_rating'].str.replace(' out of 5', '', regex=False)\n",
    "\n",
    "# Check code for correctness\n",
    "display(amazon_raw['amazon_rating'].head(5))"
   ]
  },
  {
   "cell_type": "code",
   "execution_count": 6,
   "id": "3a8cff2c-59ef-49cc-9dc2-6ba864e61612",
   "metadata": {},
   "outputs": [
    {
     "data": {
      "text/html": [
       "<div>\n",
       "<style scoped>\n",
       "    .dataframe tbody tr th:only-of-type {\n",
       "        vertical-align: middle;\n",
       "    }\n",
       "\n",
       "    .dataframe tbody tr th {\n",
       "        vertical-align: top;\n",
       "    }\n",
       "\n",
       "    .dataframe thead th {\n",
       "        text-align: right;\n",
       "    }\n",
       "</style>\n",
       "<table border=\"1\" class=\"dataframe\">\n",
       "  <thead>\n",
       "    <tr style=\"text-align: right;\">\n",
       "      <th></th>\n",
       "      <th>amazon_link</th>\n",
       "      <th>amazon_rating</th>\n",
       "      <th>amazon_sales_rank</th>\n",
       "      <th>amazon_total_reviews</th>\n",
       "    </tr>\n",
       "  </thead>\n",
       "  <tbody>\n",
       "    <tr>\n",
       "      <th>0</th>\n",
       "      <td>https://www.amazon.com/Tale-Two-Cities-Charles...</td>\n",
       "      <td>4.4</td>\n",
       "      <td>Best Sellers Rank: #1,748 Free in Kindle Store...</td>\n",
       "      <td>33644</td>\n",
       "    </tr>\n",
       "    <tr>\n",
       "      <th>1</th>\n",
       "      <td>https://www.amazon.com/little-Prince-Antoine-S...</td>\n",
       "      <td>4.9</td>\n",
       "      <td>Best Sellers Rank: #40,864 in Books (See Top 1...</td>\n",
       "      <td>1686</td>\n",
       "    </tr>\n",
       "    <tr>\n",
       "      <th>2</th>\n",
       "      <td>https://www.amazon.com/Harry-Potter-Sorcerers-...</td>\n",
       "      <td>4.8</td>\n",
       "      <td>#68 in Audible Books &amp; Originals (See Top 100 ...</td>\n",
       "      <td>138128</td>\n",
       "    </tr>\n",
       "    <tr>\n",
       "      <th>3</th>\n",
       "      <td>https://www.amazon.com/And-Then-There-Were-Non...</td>\n",
       "      <td>4.4</td>\n",
       "      <td>#1,123 in Audible Books &amp; Originals (See Top 1...</td>\n",
       "      <td>50377</td>\n",
       "    </tr>\n",
       "    <tr>\n",
       "      <th>4</th>\n",
       "      <td>https://www.amazon.com/Dreams-My-Father-Story-...</td>\n",
       "      <td>4.7</td>\n",
       "      <td>#7,822 in Audible Books &amp; Originals (See Top 1...</td>\n",
       "      <td>10636</td>\n",
       "    </tr>\n",
       "  </tbody>\n",
       "</table>\n",
       "</div>"
      ],
      "text/plain": [
       "                                         amazon_link amazon_rating  \\\n",
       "0  https://www.amazon.com/Tale-Two-Cities-Charles...           4.4   \n",
       "1  https://www.amazon.com/little-Prince-Antoine-S...           4.9   \n",
       "2  https://www.amazon.com/Harry-Potter-Sorcerers-...           4.8   \n",
       "3  https://www.amazon.com/And-Then-There-Were-Non...           4.4   \n",
       "4  https://www.amazon.com/Dreams-My-Father-Story-...           4.7   \n",
       "\n",
       "                                   amazon_sales_rank amazon_total_reviews  \n",
       "0  Best Sellers Rank: #1,748 Free in Kindle Store...                33644  \n",
       "1  Best Sellers Rank: #40,864 in Books (See Top 1...                 1686  \n",
       "2  #68 in Audible Books & Originals (See Top 100 ...               138128  \n",
       "3  #1,123 in Audible Books & Originals (See Top 1...                50377  \n",
       "4  #7,822 in Audible Books & Originals (See Top 1...                10636  "
      ]
     },
     "metadata": {},
     "output_type": "display_data"
    }
   ],
   "source": [
    "# Clean amazon_total_reviews to only be numeric \n",
    "amazon_raw['amazon_total_reviews'] = amazon_raw['amazon_total_reviews'].str.replace(' ratings', '', regex=False).str.replace(',', '', regex=False)\n",
    "\n",
    "# Check code for correctness\n",
    "display(amazon_raw.head(5))"
   ]
  },
  {
   "cell_type": "code",
   "execution_count": 7,
   "id": "e2e51392-ee05-4c57-9ace-352de48fe644",
   "metadata": {},
   "outputs": [
    {
     "data": {
      "text/html": [
       "<div>\n",
       "<style scoped>\n",
       "    .dataframe tbody tr th:only-of-type {\n",
       "        vertical-align: middle;\n",
       "    }\n",
       "\n",
       "    .dataframe tbody tr th {\n",
       "        vertical-align: top;\n",
       "    }\n",
       "\n",
       "    .dataframe thead th {\n",
       "        text-align: right;\n",
       "    }\n",
       "</style>\n",
       "<table border=\"1\" class=\"dataframe\">\n",
       "  <thead>\n",
       "    <tr style=\"text-align: right;\">\n",
       "      <th></th>\n",
       "      <th>amazon_link</th>\n",
       "      <th>amazon_rating</th>\n",
       "      <th>amazon_sales_rank</th>\n",
       "      <th>amazon_total_reviews</th>\n",
       "    </tr>\n",
       "  </thead>\n",
       "  <tbody>\n",
       "    <tr>\n",
       "      <th>0</th>\n",
       "      <td>https://www.amazon.com/Tale-Two-Cities-Charles...</td>\n",
       "      <td>4.4</td>\n",
       "      <td>1748</td>\n",
       "      <td>33644</td>\n",
       "    </tr>\n",
       "    <tr>\n",
       "      <th>1</th>\n",
       "      <td>https://www.amazon.com/little-Prince-Antoine-S...</td>\n",
       "      <td>4.9</td>\n",
       "      <td>40864</td>\n",
       "      <td>1686</td>\n",
       "    </tr>\n",
       "    <tr>\n",
       "      <th>2</th>\n",
       "      <td>https://www.amazon.com/Harry-Potter-Sorcerers-...</td>\n",
       "      <td>4.8</td>\n",
       "      <td>68</td>\n",
       "      <td>138128</td>\n",
       "    </tr>\n",
       "    <tr>\n",
       "      <th>3</th>\n",
       "      <td>https://www.amazon.com/And-Then-There-Were-Non...</td>\n",
       "      <td>4.4</td>\n",
       "      <td>1123</td>\n",
       "      <td>50377</td>\n",
       "    </tr>\n",
       "    <tr>\n",
       "      <th>4</th>\n",
       "      <td>https://www.amazon.com/Dreams-My-Father-Story-...</td>\n",
       "      <td>4.7</td>\n",
       "      <td>7822</td>\n",
       "      <td>10636</td>\n",
       "    </tr>\n",
       "  </tbody>\n",
       "</table>\n",
       "</div>"
      ],
      "text/plain": [
       "                                         amazon_link amazon_rating  \\\n",
       "0  https://www.amazon.com/Tale-Two-Cities-Charles...           4.4   \n",
       "1  https://www.amazon.com/little-Prince-Antoine-S...           4.9   \n",
       "2  https://www.amazon.com/Harry-Potter-Sorcerers-...           4.8   \n",
       "3  https://www.amazon.com/And-Then-There-Were-Non...           4.4   \n",
       "4  https://www.amazon.com/Dreams-My-Father-Story-...           4.7   \n",
       "\n",
       "  amazon_sales_rank amazon_total_reviews  \n",
       "0              1748                33644  \n",
       "1             40864                 1686  \n",
       "2                68               138128  \n",
       "3              1123                50377  \n",
       "4              7822                10636  "
      ]
     },
     "metadata": {},
     "output_type": "display_data"
    }
   ],
   "source": [
    "# Clean amazon_sales_rank to only be numeric, note that the data is formatted two different ways so a loop is needed\n",
    "# Define function to loop through 2 different data formats\n",
    "def clean_sales_rank(rank):\n",
    "    lines = str(rank).split('\\n')  # Split by lines for multi-line data\n",
    "    for line in lines:  \n",
    "        match = re.search(r'#([\\d,]+)', line)  \n",
    "        if match:\n",
    "            return match.group(1).replace(',', '')  \n",
    "\n",
    "# Apply the function to the amazon_sales_rank column\n",
    "amazon_raw['amazon_sales_rank'] = amazon_raw['amazon_sales_rank'].apply(clean_sales_rank)\n",
    "\n",
    "# Display the cleaned data\n",
    "display(amazon_raw.head(5))"
   ]
  },
  {
   "cell_type": "code",
   "execution_count": 8,
   "id": "ef3119b3-4f68-45e4-9ee7-bdc9e0407607",
   "metadata": {},
   "outputs": [],
   "source": [
    "# Save the cleaned data to a new Excel file\n",
    "amazon_raw.to_excel('amazon_cleaned.xlsx', index=False)"
   ]
  },
  {
   "cell_type": "code",
   "execution_count": 9,
   "id": "6820ce3d-91f0-4d27-83c0-9f3554ac6ee8",
   "metadata": {},
   "outputs": [
    {
     "data": {
      "text/html": [
       "<div>\n",
       "<style scoped>\n",
       "    .dataframe tbody tr th:only-of-type {\n",
       "        vertical-align: middle;\n",
       "    }\n",
       "\n",
       "    .dataframe tbody tr th {\n",
       "        vertical-align: top;\n",
       "    }\n",
       "\n",
       "    .dataframe thead th {\n",
       "        text-align: right;\n",
       "    }\n",
       "</style>\n",
       "<table border=\"1\" class=\"dataframe\">\n",
       "  <thead>\n",
       "    <tr style=\"text-align: right;\">\n",
       "      <th></th>\n",
       "      <th>Book</th>\n",
       "      <th>Author(s)</th>\n",
       "      <th>Original language</th>\n",
       "      <th>First published</th>\n",
       "      <th>Approximate sales in millions</th>\n",
       "      <th>Genre</th>\n",
       "      <th>Amazon Link</th>\n",
       "    </tr>\n",
       "  </thead>\n",
       "  <tbody>\n",
       "    <tr>\n",
       "      <th>0</th>\n",
       "      <td>A Tale of Two Cities</td>\n",
       "      <td>Charles Dickens</td>\n",
       "      <td>English</td>\n",
       "      <td>1859</td>\n",
       "      <td>200.0</td>\n",
       "      <td>Historical fiction</td>\n",
       "      <td>https://www.amazon.com/Tale-Two-Cities-Charles...</td>\n",
       "    </tr>\n",
       "    <tr>\n",
       "      <th>1</th>\n",
       "      <td>The Little Prince (Le Petit Prince)</td>\n",
       "      <td>Antoine de Saint-Exupéry</td>\n",
       "      <td>French</td>\n",
       "      <td>1943</td>\n",
       "      <td>200.0</td>\n",
       "      <td>Novella</td>\n",
       "      <td>https://www.amazon.com/little-Prince-Antoine-S...</td>\n",
       "    </tr>\n",
       "    <tr>\n",
       "      <th>2</th>\n",
       "      <td>Harry Potter and the Philosopher's Stone</td>\n",
       "      <td>J. K. Rowling</td>\n",
       "      <td>English</td>\n",
       "      <td>1997</td>\n",
       "      <td>120.0</td>\n",
       "      <td>Fantasy</td>\n",
       "      <td>https://www.amazon.com/Harry-Potter-Sorcerers-...</td>\n",
       "    </tr>\n",
       "    <tr>\n",
       "      <th>3</th>\n",
       "      <td>And Then There Were None</td>\n",
       "      <td>Agatha Christie</td>\n",
       "      <td>English</td>\n",
       "      <td>1939</td>\n",
       "      <td>100.0</td>\n",
       "      <td>Mystery</td>\n",
       "      <td>https://www.amazon.com/And-Then-There-Were-Non...</td>\n",
       "    </tr>\n",
       "    <tr>\n",
       "      <th>4</th>\n",
       "      <td>Dream of the Red Chamber (紅樓夢)</td>\n",
       "      <td>Cao Xueqin</td>\n",
       "      <td>Chinese</td>\n",
       "      <td>1791</td>\n",
       "      <td>100.0</td>\n",
       "      <td>Family saga</td>\n",
       "      <td>https://www.amazon.com/Dreams-My-Father-Story-...</td>\n",
       "    </tr>\n",
       "  </tbody>\n",
       "</table>\n",
       "</div>"
      ],
      "text/plain": [
       "                                       Book                 Author(s)  \\\n",
       "0                      A Tale of Two Cities           Charles Dickens   \n",
       "1       The Little Prince (Le Petit Prince)  Antoine de Saint-Exupéry   \n",
       "2  Harry Potter and the Philosopher's Stone             J. K. Rowling   \n",
       "3                  And Then There Were None           Agatha Christie   \n",
       "4            Dream of the Red Chamber (紅樓夢)                Cao Xueqin   \n",
       "\n",
       "  Original language  First published  Approximate sales in millions  \\\n",
       "0           English             1859                          200.0   \n",
       "1            French             1943                          200.0   \n",
       "2           English             1997                          120.0   \n",
       "3           English             1939                          100.0   \n",
       "4           Chinese             1791                          100.0   \n",
       "\n",
       "                Genre                                        Amazon Link  \n",
       "0  Historical fiction  https://www.amazon.com/Tale-Two-Cities-Charles...  \n",
       "1             Novella  https://www.amazon.com/little-Prince-Antoine-S...  \n",
       "2             Fantasy  https://www.amazon.com/Harry-Potter-Sorcerers-...  \n",
       "3             Mystery  https://www.amazon.com/And-Then-There-Were-Non...  \n",
       "4         Family saga  https://www.amazon.com/Dreams-My-Father-Story-...  "
      ]
     },
     "metadata": {},
     "output_type": "display_data"
    },
    {
     "data": {
      "text/plain": [
       "(171, 7)"
      ]
     },
     "execution_count": 9,
     "metadata": {},
     "output_type": "execute_result"
    }
   ],
   "source": [
    "# Open scraped data to clean our second dataset: best_selling_books\n",
    "best_selling_books = pd.read_csv('best_selling_books.csv')\n",
    "\n",
    "# Check all data came out correct\n",
    "display(best_selling_books.head(5))\n",
    "best_selling_books.shape"
   ]
  },
  {
   "cell_type": "code",
   "execution_count": 10,
   "id": "13f3c966-72b6-4f3c-b7d6-3acd524a9e5e",
   "metadata": {},
   "outputs": [
    {
     "data": {
      "text/plain": [
       "Index(['book', 'author(s)', 'original_language', 'first_published',\n",
       "       'approximate_sales_in_millions', 'genre', 'amazon_link'],\n",
       "      dtype='object')"
      ]
     },
     "metadata": {},
     "output_type": "display_data"
    }
   ],
   "source": [
    "# Convert column names to snake case \n",
    "best_selling_books.columns = best_selling_books.columns.str.strip().str.lower().str.replace(' ', '_')\n",
    "\n",
    "display(best_selling_books.columns)"
   ]
  },
  {
   "cell_type": "code",
   "execution_count": 11,
   "id": "2a6cbee9-1cf5-4915-a4b3-c6f0ade4ec26",
   "metadata": {},
   "outputs": [
    {
     "data": {
      "text/html": [
       "<div>\n",
       "<style scoped>\n",
       "    .dataframe tbody tr th:only-of-type {\n",
       "        vertical-align: middle;\n",
       "    }\n",
       "\n",
       "    .dataframe tbody tr th {\n",
       "        vertical-align: top;\n",
       "    }\n",
       "\n",
       "    .dataframe thead th {\n",
       "        text-align: right;\n",
       "    }\n",
       "</style>\n",
       "<table border=\"1\" class=\"dataframe\">\n",
       "  <thead>\n",
       "    <tr style=\"text-align: right;\">\n",
       "      <th></th>\n",
       "      <th>book</th>\n",
       "      <th>author(s)</th>\n",
       "      <th>original_language</th>\n",
       "      <th>first_published</th>\n",
       "      <th>approximate_sales_in_millions</th>\n",
       "      <th>amazon_link</th>\n",
       "    </tr>\n",
       "  </thead>\n",
       "  <tbody>\n",
       "    <tr>\n",
       "      <th>0</th>\n",
       "      <td>A Tale of Two Cities</td>\n",
       "      <td>Charles Dickens</td>\n",
       "      <td>English</td>\n",
       "      <td>1859</td>\n",
       "      <td>200.0</td>\n",
       "      <td>https://www.amazon.com/Tale-Two-Cities-Charles...</td>\n",
       "    </tr>\n",
       "    <tr>\n",
       "      <th>1</th>\n",
       "      <td>The Little Prince (Le Petit Prince)</td>\n",
       "      <td>Antoine de Saint-Exupéry</td>\n",
       "      <td>French</td>\n",
       "      <td>1943</td>\n",
       "      <td>200.0</td>\n",
       "      <td>https://www.amazon.com/little-Prince-Antoine-S...</td>\n",
       "    </tr>\n",
       "    <tr>\n",
       "      <th>2</th>\n",
       "      <td>Harry Potter and the Philosopher's Stone</td>\n",
       "      <td>J. K. Rowling</td>\n",
       "      <td>English</td>\n",
       "      <td>1997</td>\n",
       "      <td>120.0</td>\n",
       "      <td>https://www.amazon.com/Harry-Potter-Sorcerers-...</td>\n",
       "    </tr>\n",
       "    <tr>\n",
       "      <th>3</th>\n",
       "      <td>And Then There Were None</td>\n",
       "      <td>Agatha Christie</td>\n",
       "      <td>English</td>\n",
       "      <td>1939</td>\n",
       "      <td>100.0</td>\n",
       "      <td>https://www.amazon.com/And-Then-There-Were-Non...</td>\n",
       "    </tr>\n",
       "    <tr>\n",
       "      <th>4</th>\n",
       "      <td>Dream of the Red Chamber (紅樓夢)</td>\n",
       "      <td>Cao Xueqin</td>\n",
       "      <td>Chinese</td>\n",
       "      <td>1791</td>\n",
       "      <td>100.0</td>\n",
       "      <td>https://www.amazon.com/Dreams-My-Father-Story-...</td>\n",
       "    </tr>\n",
       "  </tbody>\n",
       "</table>\n",
       "</div>"
      ],
      "text/plain": [
       "                                       book                 author(s)  \\\n",
       "0                      A Tale of Two Cities           Charles Dickens   \n",
       "1       The Little Prince (Le Petit Prince)  Antoine de Saint-Exupéry   \n",
       "2  Harry Potter and the Philosopher's Stone             J. K. Rowling   \n",
       "3                  And Then There Were None           Agatha Christie   \n",
       "4            Dream of the Red Chamber (紅樓夢)                Cao Xueqin   \n",
       "\n",
       "  original_language  first_published  approximate_sales_in_millions  \\\n",
       "0           English             1859                          200.0   \n",
       "1            French             1943                          200.0   \n",
       "2           English             1997                          120.0   \n",
       "3           English             1939                          100.0   \n",
       "4           Chinese             1791                          100.0   \n",
       "\n",
       "                                         amazon_link  \n",
       "0  https://www.amazon.com/Tale-Two-Cities-Charles...  \n",
       "1  https://www.amazon.com/little-Prince-Antoine-S...  \n",
       "2  https://www.amazon.com/Harry-Potter-Sorcerers-...  \n",
       "3  https://www.amazon.com/And-Then-There-Were-Non...  \n",
       "4  https://www.amazon.com/Dreams-My-Father-Story-...  "
      ]
     },
     "metadata": {},
     "output_type": "display_data"
    }
   ],
   "source": [
    "# Delete genre column \n",
    "best_selling_books = best_selling_books.drop(columns=['genre'])\n",
    "\n",
    "# Check the updated DataFrame\n",
    "display(best_selling_books.head(5))"
   ]
  },
  {
   "cell_type": "code",
   "execution_count": 12,
   "id": "511bedbc-2f80-45ec-a233-83056a82ec28",
   "metadata": {},
   "outputs": [],
   "source": [
    "# Save the cleaned data to a new Excel file\n",
    "best_selling_books.to_csv('best_selling_books_cleaned.csv', index=False)"
   ]
  }
 ],
 "metadata": {
  "kernelspec": {
   "display_name": "Python 3 (ipykernel)",
   "language": "python",
   "name": "python3"
  },
  "language_info": {
   "codemirror_mode": {
    "name": "ipython",
    "version": 3
   },
   "file_extension": ".py",
   "mimetype": "text/x-python",
   "name": "python",
   "nbconvert_exporter": "python",
   "pygments_lexer": "ipython3",
   "version": "3.12.3"
  }
 },
 "nbformat": 4,
 "nbformat_minor": 5
}
