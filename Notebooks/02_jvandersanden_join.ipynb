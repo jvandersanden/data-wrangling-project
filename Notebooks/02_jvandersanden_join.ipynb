{
 "cells": [
  {
   "cell_type": "markdown",
   "id": "5178867a-1393-43b6-9e09-352c58339488",
   "metadata": {},
   "source": [
    "## Jacob Vander Sanden\n",
    "## Web Scraping Project - Part 3: Joining datasets\n",
    "## 11/13/2024"
   ]
  },
  {
   "cell_type": "code",
   "execution_count": 2,
   "id": "6c3408c2-66a7-4fbc-9c2b-c7c4b2714b1b",
   "metadata": {},
   "outputs": [],
   "source": [
    "# imports\n",
    "import pandas as pd"
   ]
  },
  {
   "cell_type": "code",
   "execution_count": 3,
   "id": "364768cf-c323-490e-86bc-5df72f16d074",
   "metadata": {},
   "outputs": [
    {
     "name": "stdout",
     "output_type": "stream",
     "text": [
      "(171, 4)\n",
      "(171, 6)\n"
     ]
    }
   ],
   "source": [
    "# Open both files\n",
    "amazon_cleaned = pd.read_excel('amazon_cleaned.xlsx')\n",
    "best_selling_books_cleaned = pd.read_csv('best_selling_books_cleaned.csv')\n",
    "\n",
    "# display(amazon_cleaned, best_selling_books_cleaned)\n",
    "print(amazon_cleaned.shape)\n",
    "print(best_selling_books_cleaned.shape)"
   ]
  },
  {
   "cell_type": "code",
   "execution_count": 9,
   "id": "6e626ce9-aa9f-4f71-8c97-2ba8c282968b",
   "metadata": {},
   "outputs": [
    {
     "data": {
      "text/html": [
       "<div>\n",
       "<style scoped>\n",
       "    .dataframe tbody tr th:only-of-type {\n",
       "        vertical-align: middle;\n",
       "    }\n",
       "\n",
       "    .dataframe tbody tr th {\n",
       "        vertical-align: top;\n",
       "    }\n",
       "\n",
       "    .dataframe thead th {\n",
       "        text-align: right;\n",
       "    }\n",
       "</style>\n",
       "<table border=\"1\" class=\"dataframe\">\n",
       "  <thead>\n",
       "    <tr style=\"text-align: right;\">\n",
       "      <th></th>\n",
       "      <th>amazon_link</th>\n",
       "      <th>amazon_rating</th>\n",
       "      <th>amazon_sales_rank</th>\n",
       "      <th>amazon_total_reviews</th>\n",
       "      <th>book</th>\n",
       "      <th>author(s)</th>\n",
       "      <th>original_language</th>\n",
       "      <th>first_published</th>\n",
       "      <th>approximate_sales_in_millions</th>\n",
       "    </tr>\n",
       "  </thead>\n",
       "  <tbody>\n",
       "    <tr>\n",
       "      <th>0</th>\n",
       "      <td>https://www.amazon.com/Tale-Two-Cities-Charles...</td>\n",
       "      <td>4.4</td>\n",
       "      <td>1748</td>\n",
       "      <td>33644</td>\n",
       "      <td>A Tale of Two Cities</td>\n",
       "      <td>Charles Dickens</td>\n",
       "      <td>English</td>\n",
       "      <td>1859</td>\n",
       "      <td>200.0</td>\n",
       "    </tr>\n",
       "    <tr>\n",
       "      <th>1</th>\n",
       "      <td>https://www.amazon.com/little-Prince-Antoine-S...</td>\n",
       "      <td>4.9</td>\n",
       "      <td>40864</td>\n",
       "      <td>1686</td>\n",
       "      <td>The Little Prince (Le Petit Prince)</td>\n",
       "      <td>Antoine de Saint-Exupéry</td>\n",
       "      <td>French</td>\n",
       "      <td>1943</td>\n",
       "      <td>200.0</td>\n",
       "    </tr>\n",
       "    <tr>\n",
       "      <th>2</th>\n",
       "      <td>https://www.amazon.com/Harry-Potter-Sorcerers-...</td>\n",
       "      <td>4.8</td>\n",
       "      <td>68</td>\n",
       "      <td>138128</td>\n",
       "      <td>Harry Potter and the Philosopher's Stone</td>\n",
       "      <td>J. K. Rowling</td>\n",
       "      <td>English</td>\n",
       "      <td>1997</td>\n",
       "      <td>120.0</td>\n",
       "    </tr>\n",
       "    <tr>\n",
       "      <th>3</th>\n",
       "      <td>https://www.amazon.com/And-Then-There-Were-Non...</td>\n",
       "      <td>4.4</td>\n",
       "      <td>1123</td>\n",
       "      <td>50377</td>\n",
       "      <td>And Then There Were None</td>\n",
       "      <td>Agatha Christie</td>\n",
       "      <td>English</td>\n",
       "      <td>1939</td>\n",
       "      <td>100.0</td>\n",
       "    </tr>\n",
       "    <tr>\n",
       "      <th>4</th>\n",
       "      <td>https://www.amazon.com/Dreams-My-Father-Story-...</td>\n",
       "      <td>4.7</td>\n",
       "      <td>7822</td>\n",
       "      <td>10636</td>\n",
       "      <td>Dream of the Red Chamber (紅樓夢)</td>\n",
       "      <td>Cao Xueqin</td>\n",
       "      <td>Chinese</td>\n",
       "      <td>1791</td>\n",
       "      <td>100.0</td>\n",
       "    </tr>\n",
       "  </tbody>\n",
       "</table>\n",
       "</div>"
      ],
      "text/plain": [
       "                                         amazon_link  amazon_rating  \\\n",
       "0  https://www.amazon.com/Tale-Two-Cities-Charles...            4.4   \n",
       "1  https://www.amazon.com/little-Prince-Antoine-S...            4.9   \n",
       "2  https://www.amazon.com/Harry-Potter-Sorcerers-...            4.8   \n",
       "3  https://www.amazon.com/And-Then-There-Were-Non...            4.4   \n",
       "4  https://www.amazon.com/Dreams-My-Father-Story-...            4.7   \n",
       "\n",
       "   amazon_sales_rank amazon_total_reviews  \\\n",
       "0               1748                33644   \n",
       "1              40864                 1686   \n",
       "2                 68               138128   \n",
       "3               1123                50377   \n",
       "4               7822                10636   \n",
       "\n",
       "                                       book                 author(s)  \\\n",
       "0                      A Tale of Two Cities           Charles Dickens   \n",
       "1       The Little Prince (Le Petit Prince)  Antoine de Saint-Exupéry   \n",
       "2  Harry Potter and the Philosopher's Stone             J. K. Rowling   \n",
       "3                  And Then There Were None           Agatha Christie   \n",
       "4            Dream of the Red Chamber (紅樓夢)                Cao Xueqin   \n",
       "\n",
       "  original_language  first_published  approximate_sales_in_millions  \n",
       "0           English             1859                          200.0  \n",
       "1            French             1943                          200.0  \n",
       "2           English             1997                          120.0  \n",
       "3           English             1939                          100.0  \n",
       "4           Chinese             1791                          100.0  "
      ]
     },
     "metadata": {},
     "output_type": "display_data"
    },
    {
     "name": "stdout",
     "output_type": "stream",
     "text": [
      "(172, 9)\n"
     ]
    }
   ],
   "source": [
    "# Merge the two datasets on the 'amazon_link' column\n",
    "combined_data = pd.merge(amazon_cleaned, best_selling_books_cleaned, on='amazon_link', how='inner')\n",
    "\n",
    "# Display the first few rows of the combined dataset\n",
    "display(combined_data.head())\n",
    "\n",
    "# Check the shape of the new dataset\n",
    "print(combined_data.shape)"
   ]
  },
  {
   "cell_type": "code",
   "execution_count": 11,
   "id": "8d6dc37b-44f5-4953-8560-70c00d61f729",
   "metadata": {},
   "outputs": [],
   "source": [
    "# Export joined data to a new exbest_selling_books.to_csv('best_selling_books_cleaned.csv', index=False)cel \n",
    "combined_data.to_csv('combined_data.csv', index=False)"
   ]
  }
 ],
 "metadata": {
  "kernelspec": {
   "display_name": "Python 3 (ipykernel)",
   "language": "python",
   "name": "python3"
  },
  "language_info": {
   "codemirror_mode": {
    "name": "ipython",
    "version": 3
   },
   "file_extension": ".py",
   "mimetype": "text/x-python",
   "name": "python",
   "nbconvert_exporter": "python",
   "pygments_lexer": "ipython3",
   "version": "3.12.3"
  }
 },
 "nbformat": 4,
 "nbformat_minor": 5
}
